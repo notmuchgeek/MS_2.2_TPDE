{
 "cells": [
  {
   "cell_type": "code",
   "execution_count": null,
   "metadata": {},
   "outputs": [],
   "source": [
    "### PLOTLY - TERNARY PHASE DIAGRAM\n",
    "# Importing Pandas and plotly\n",
    "import pandas as pd\n",
    "import os\n",
    "root_dir = os.getcwd()\n",
    "import plotly.express as px\n",
    "\n",
    "# Changing Directory back to the folder 'Dataset_Final' (root directory)\n",
    "os.chdir(root_dir)\n",
    "# Opening Dataset in Pandas\n",
    "binodal = pd.read_csv('Ternary_Phase_Diagram.csv')\n",
    "\n",
    "# Defining figure parameters for Plotly\n",
    "fig = px.scatter_ternary(binodal, # data\n",
    "                         a=\"Ethanol\", b=\"Water\", c=\"Toluene\", \n",
    "                         size = 'Size', size_max = 15, #size of data points (bigger for tie lines)\n",
    "                         color = 'Color',color_discrete_map = {\"Binodal\" : \"black\", \n",
    "                                                               \"Tie Line 1\" : \"red\", \n",
    "                                                               \"Tie Line 2\" : \"blue\"}, #Defines color for various points\n",
    "                         symbol = \"Shape\") # shape (circles, squares, diamonds)\n",
    "# Show ternary plot\n",
    "fig.show()\n",
    "\n",
    "# Exporting SVG\n",
    "# Define preferred export format and export engine as Kaleido\n",
    "fig.to_image(format=\"svg\", engine=\"kaleido\")\n",
    "# Export image as 'Binodal.png'\n",
    "fig.write_image('Binodal_plotly.svg')\n",
    "\n",
    "# Exporting PNG\n",
    "# Define preferred export format and export engine as Kaleido\n",
    "fig.to_image(format=\"png\", engine=\"kaleido\")\n",
    "# Export image as 'Binodal.png'\n",
    "fig.write_image('Binodal_plotly.png')"
   ]
  },
  {
   "cell_type": "code",
   "execution_count": null,
   "metadata": {},
   "outputs": [],
   "source": []
  },
  {
   "cell_type": "code",
   "execution_count": null,
   "metadata": {},
   "outputs": [],
   "source": []
  }
 ],
 "metadata": {
  "kernelspec": {
   "display_name": "Python 3",
   "language": "python",
   "name": "python3"
  },
  "language_info": {
   "codemirror_mode": {
    "name": "ipython",
    "version": 3
   },
   "file_extension": ".py",
   "mimetype": "text/x-python",
   "name": "python",
   "nbconvert_exporter": "python",
   "pygments_lexer": "ipython3",
   "version": "3.8.5"
  },
  "toc": {
   "base_numbering": 1,
   "nav_menu": {},
   "number_sections": true,
   "sideBar": true,
   "skip_h1_title": false,
   "title_cell": "Table of Contents",
   "title_sidebar": "Contents",
   "toc_cell": false,
   "toc_position": {},
   "toc_section_display": true,
   "toc_window_display": false
  }
 },
 "nbformat": 4,
 "nbformat_minor": 5
}
