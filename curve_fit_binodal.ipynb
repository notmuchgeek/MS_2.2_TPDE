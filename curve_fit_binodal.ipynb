{
 "cells": [
  {
   "cell_type": "markdown",
   "metadata": {},
   "source": [
    "__Before using the codes below, notation:__\n",
    "\n",
    "1. for the mixture component, using a sliced-like list. (Could use the liquid volume or mass ratio)\n",
    "<p>eg: Ethanol: Water: Toluene = [::] </p>"
   ]
  },
  {
   "cell_type": "markdown",
   "metadata": {},
   "source": [
    "# Retrieve the wavelength for the binodal line"
   ]
  },
  {
   "cell_type": "markdown",
   "metadata": {},
   "source": [
    "## Import packages and set initial parameters for the graphs"
   ]
  },
  {
   "cell_type": "code",
   "execution_count": null,
   "metadata": {},
   "outputs": [],
   "source": [
    "from dataGadgets import *\n",
    "\n",
    "plt.rcParams['figure.figsize'] = [10,6]\n",
    "plt.rcParams['figure.dpi'] = 100\n",
    "\n",
    "# for the folder where stores the *.csv file for the different mixture.\n",
    "specFold = 'curve_fit_binodal/'"
   ]
  },
  {
   "cell_type": "code",
   "execution_count": null,
   "metadata": {},
   "outputs": [],
   "source": [
    "# Other parameters \n",
    "'''\n",
    "plt.rcParams['figure.figsize'] = [12, 8]\n",
    "plt.rcParams['figure.dpi'] = 100 \n",
    "plt.rcParams['font.size'] = 18\n",
    "plt.rcParams['axes.labelsize'] = 18\n",
    "plt.rcParams['xtick.labelsize'] = 14\n",
    "plt.rcParams['ytick.labelsize'] = 14\n",
    "plt.rcParams['lines.linewidth'] = 2\n",
    "'''"
   ]
  },
  {
   "cell_type": "markdown",
   "metadata": {},
   "source": [
    "## Retrieve the data from  *.csv and seperatedly save them to different lists"
   ]
  },
  {
   "cell_type": "code",
   "execution_count": null,
   "metadata": {},
   "outputs": [],
   "source": [
    "raw01 = yld_rawdata(specFold+'Ethanol 125_10 1.csv',6)\n",
    "raw02 = yld_rawdata(specFold+'Water 1000_10.csv',6)\n",
    "raw03 = yld_rawdata(specFold+'Toluene 1000_10.csv',6)\n",
    "raw04 = yld_rawdata(specFold+'Toluene 1000_10.csv',6)\n",
    "\n",
    "\n",
    "wv_01,inten_01 = yld_xy_sliced(raw01)\n",
    "wv_02,inten_02 = yld_xy_sliced(raw02)\n",
    "wv_03,inten_03 = yld_xy_sliced(raw03)\n",
    "wv_04,inten_04 = yld_xy_sliced(raw04)"
   ]
  },
  {
   "cell_type": "markdown",
   "metadata": {},
   "source": [
    "## set initial guess for the parameters, plot the original data and the fitted line"
   ]
  },
  {
   "cell_type": "markdown",
   "metadata": {},
   "source": [
    "### For the mixture with the component -- Ethanol: Water: Toluene = [4.0:25.4:]"
   ]
  },
  {
   "cell_type": "code",
   "execution_count": null,
   "metadata": {},
   "outputs": [],
   "source": [
    "#Sliced list for the curve fitting\n",
    "wv_fit_01,inten_fit_01 = yld_xy_sliced(raw01,470,530)\n",
    "\n",
    "# initial guess for fitted parameters, may need to be changed\n",
    "initGuess01 = [-0.5,-500,180] \n",
    "\n",
    "f1 = yld_curve_fit_Y(para_curve,wv_fit_01,inten_fit_01,initGuess01)\n",
    "\n",
    "plt.plot(wv_01,inten_01,marker = '',linestyle = '-',label = 'Spectra of mixture  [4.0:25.4:]')\n",
    "plt.plot(wv_fit_01,f1,label = 'Fitted curve')\n",
    "\n",
    "\n",
    "plt.legend(loc = 'best')\n",
    "plt.title('Prodan Emission Spectra of binodals')\n",
    "plt.xlabel('Wavelength, $\\lambda$ [nm]')\n",
    "plt.ylabel('Intensity')\n",
    "plt.show()"
   ]
  },
  {
   "cell_type": "markdown",
   "metadata": {},
   "source": [
    "### For the mixture with the component -- Ethanol: Water: Toluene = [10.0:11.5:]"
   ]
  },
  {
   "cell_type": "code",
   "execution_count": null,
   "metadata": {},
   "outputs": [],
   "source": [
    "#Sliced list for the curve fitting\n",
    "wv_fit_02,inten_fit_02 = yld_xy_sliced(raw02,500,550)\n",
    "\n",
    "# initial guess for fitted parameters, may need to be changed\n",
    "initGuess01 = [-0.5,-500,180] \n",
    "f2 = yld_curve_fit_Y(para_curve,wv_fit_02,inten_fit_02,initGuess01)\n",
    "\n",
    "plt.plot(wv_02,inten_02,marker = '',linestyle = '-',label = 'Spectra of mixture [10.0:11.5:]')\n",
    "plt.plot(wv_fit_02,f2,label = 'Fitted curve')\n",
    "\n",
    "plt.legend(loc = 'best')\n",
    "plt.title('Prodan Emission Spectra of binodals')\n",
    "plt.xlabel('Wavelength, $\\lambda$ [nm]')\n",
    "plt.ylabel('Intensity')\n",
    "plt.show()"
   ]
  },
  {
   "cell_type": "markdown",
   "metadata": {},
   "source": [
    "### For the mixture with the component -- Ethanol: Water: Toluene = [10.0:4.9:]"
   ]
  },
  {
   "cell_type": "code",
   "execution_count": null,
   "metadata": {
    "scrolled": false
   },
   "outputs": [],
   "source": [
    "#Sliced list for the curve fitting\n",
    "wv_fit_03,inten_fit_03 = yld_xy_sliced(raw03,500,550)\n",
    "\n",
    "# initial guess for fitted parameters, may need to be changed\n",
    "initGuess01 = [-0.5,-500,180] \n",
    "f3 = yld_curve_fit_Y(para_curve,wv_fit_03,inten_fit_03,initGuess01)\n",
    "\n",
    "plt.plot(wv_03,inten_03,marker = '',linestyle = '-',label = 'Spectra of mixture  [10.0:4.9:]')\n",
    "plt.plot(wv_fit_03,f3,label = 'Fitted curve')\n",
    "\n",
    "plt.legend(loc = 'best')\n",
    "plt.title('Prodan Emission Spectra of binodals')\n",
    "plt.xlabel('Wavelength, $\\lambda$ [nm]')\n",
    "plt.ylabel('Intensity')\n",
    "plt.show()"
   ]
  },
  {
   "cell_type": "markdown",
   "metadata": {},
   "source": [
    "### For the mixture with the component -- Ethanol: Water: Toluene = [16.5:1.0:]"
   ]
  },
  {
   "cell_type": "code",
   "execution_count": null,
   "metadata": {
    "scrolled": false
   },
   "outputs": [],
   "source": [
    "#Sliced list for the curve fitting\n",
    "wv_fit_04,inten_fit_04 = yld_xy_sliced(raw04,500,550)\n",
    "\n",
    "# initial guess for fitted parameters, may need to be changed\n",
    "initGuess01 = [-0.5,-500,180] \n",
    "f4 = yld_curve_fit_Y(para_curve,wv_fit_04,inten_fit_04,initGuess01)\n",
    "\n",
    "plt.plot(wv_04,inten_04,marker = '',linestyle = '-',label = 'Spectra of mixture [16.5:1.0:]')\n",
    "plt.plot(wv_fit_04,f4,label = 'Fitted curve')\n",
    "\n",
    "plt.legend(loc = 'best')\n",
    "plt.title('Prodan Emission Spectra of binodals')\n",
    "plt.xlabel('Wavelength, $\\lambda$ [nm]')\n",
    "plt.ylabel('Intensity')\n",
    "plt.show()"
   ]
  },
  {
   "cell_type": "markdown",
   "metadata": {},
   "source": [
    "## Plot all the data on the same graph."
   ]
  },
  {
   "cell_type": "code",
   "execution_count": null,
   "metadata": {},
   "outputs": [],
   "source": [
    "#Sliced list for the curve fitting\n",
    "wv_fit_01,inten_fit_01 = yld_xy_sliced(raw01,500,550)\n",
    "wv_fit_02,inten_fit_02 = yld_xy_sliced(raw02,500,550)\n",
    "wv_fit_03,inten_fit_03 = yld_xy_sliced(raw03,500,550)\n",
    "wv_fit_04,inten_fit_04 = yld_xy_sliced(raw04,500,550)\n",
    "\n",
    "# initial guess for fitted parameters, may need to be changed\n",
    "initGuess01 = [-0.5,-500,180] \n",
    "\n",
    "plt.plot(wv_01,inten_01,marker = '',linestyle = '-',label = 'Spectra of mixture  [4.0:25.4:]')\n",
    "plt.plot(wv_fit_01,f1,label = 'Fitted curve')\n",
    "\n",
    "plt.plot(wv_02,inten_02,marker = '',linestyle = '-',label = 'Spectra of mixture [10.0:11.5:]')\n",
    "plt.plot(wv_fit_02,f2,label = 'Fitted curve')\n",
    "\n",
    "plt.plot(wv_03,inten_03,marker = '',linestyle = '-',label = 'Spectra of mixture  [10.0:4.9:]')\n",
    "plt.plot(wv_fit_03,f3,label = 'Fitted curve')\n",
    "\n",
    "plt.plot(wv_04,inten_04,marker = '',linestyle = '-',label = 'Spectra of mixture [16.5:1.0:]')\n",
    "plt.plot(wv_fit_04,f4,label = 'Fitted curve')\n",
    "\n",
    "\n",
    "plt.legend(loc = 'best')\n",
    "plt.title('Prodan Emission Spectra of binodals')\n",
    "plt.xlabel('Wavelength, $\\lambda$ [nm]')\n",
    "plt.ylabel('Intensity')\n",
    "plt.show()"
   ]
  }
 ],
 "metadata": {
  "kernelspec": {
   "display_name": "Python 3",
   "language": "python",
   "name": "python3"
  },
  "language_info": {
   "codemirror_mode": {
    "name": "ipython",
    "version": 3
   },
   "file_extension": ".py",
   "mimetype": "text/x-python",
   "name": "python",
   "nbconvert_exporter": "python",
   "pygments_lexer": "ipython3",
   "version": "3.8.5"
  },
  "toc": {
   "base_numbering": 1,
   "nav_menu": {},
   "number_sections": true,
   "sideBar": true,
   "skip_h1_title": false,
   "title_cell": "Table of Contents",
   "title_sidebar": "Contents",
   "toc_cell": false,
   "toc_position": {},
   "toc_section_display": true,
   "toc_window_display": false
  }
 },
 "nbformat": 4,
 "nbformat_minor": 4
}
