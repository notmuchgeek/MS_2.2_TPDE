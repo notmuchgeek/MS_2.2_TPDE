{
 "cells": [
  {
   "cell_type": "code",
   "execution_count": 1,
   "metadata": {},
   "outputs": [
    {
     "name": "stdout",
     "output_type": "stream",
     "text": [
      "import numpy as np\n",
      "import matplotlib.pyplot as plt\n",
      "import scipy.optimize as opt\n",
      "import pandas as pd\n",
      "Functions successfully imported!\n",
      "\n"
     ]
    }
   ],
   "source": [
    "from dataGadgets import *"
   ]
  },
  {
   "cell_type": "code",
   "execution_count": 10,
   "metadata": {},
   "outputs": [],
   "source": [
    "# unit: ml, g/mL at 25 °C\n",
    "ρ_h20 = 1\n",
    "ρ_tol = 0.8623\n",
    "ρ_eth = 0.7849"
   ]
  },
  {
   "cell_type": "code",
   "execution_count": 14,
   "metadata": {},
   "outputs": [
    {
     "name": "stdout",
     "output_type": "stream",
     "text": [
      "Table format for mass fraction: | 0.41 | 0.151 | 0.439 |\n",
      " Table format for mass fraction: | 3 | 10.15 | 10.4 |\n"
     ]
    }
   ],
   "source": [
    "# type in the volume in ml for the three components\n",
    "# Copy the string to the cells for the tables below.\n",
    "V_water_toluene_ethanol(,,)"
   ]
  },
  {
   "cell_type": "markdown",
   "metadata": {},
   "source": [
    "__Double click to edit the tables__\n",
    "<p>Ensure correspondence between upper and lower data in the table!!</p>"
   ]
  },
  {
   "cell_type": "markdown",
   "metadata": {},
   "source": [
    "| V_water | V_toluene | V_ethanol |\n",
    "|:-:|:-:|:-:|\n"
   ]
  },
  {
   "cell_type": "markdown",
   "metadata": {},
   "source": [
    "| frac_ethanol | frac_water | frac_toluene |\n",
    "|:-:|:-:|:-:|\n",
    "|"
   ]
  },
  {
   "cell_type": "code",
   "execution_count": null,
   "metadata": {},
   "outputs": [],
   "source": []
  }
 ],
 "metadata": {
  "kernelspec": {
   "display_name": "Python 3",
   "language": "python",
   "name": "python3"
  },
  "language_info": {
   "codemirror_mode": {
    "name": "ipython",
    "version": 3
   },
   "file_extension": ".py",
   "mimetype": "text/x-python",
   "name": "python",
   "nbconvert_exporter": "python",
   "pygments_lexer": "ipython3",
   "version": "3.8.5"
  },
  "toc": {
   "base_numbering": 1,
   "nav_menu": {},
   "number_sections": true,
   "sideBar": true,
   "skip_h1_title": false,
   "title_cell": "Table of Contents",
   "title_sidebar": "Contents",
   "toc_cell": false,
   "toc_position": {},
   "toc_section_display": true,
   "toc_window_display": false
  }
 },
 "nbformat": 4,
 "nbformat_minor": 4
}
