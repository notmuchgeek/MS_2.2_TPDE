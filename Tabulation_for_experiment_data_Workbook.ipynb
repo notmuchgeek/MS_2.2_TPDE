{
 "cells": [
  {
   "cell_type": "code",
   "execution_count": 2,
   "metadata": {},
   "outputs": [
    {
     "name": "stdout",
     "output_type": "stream",
     "text": [
      "import numpy as np\n",
      "import matplotlib.pyplot as plt\n",
      "import scipy.optimize as opt\n",
      "import pandas as pd\n",
      "Functions successfully imported!\n",
      "\n"
     ]
    }
   ],
   "source": [
    "from dataGadgets import *"
   ]
  },
  {
   "cell_type": "code",
   "execution_count": 3,
   "metadata": {},
   "outputs": [],
   "source": [
    "# unit: g/mL at 25 °C\n",
    "ρ_h20 = 1\n",
    "ρ_tol = 0.8623\n",
    "ρ_eth = 0.7849\n",
    "\n",
    "def V_water_toluene_ethanol(V_h2o,V_tol,V_eth):\n",
    "    global ρ_h20,ρ_tol,ρ_eth\n",
    "    m_h20 = V_h2o*ρ_h20\n",
    "    m_tol = V_tol*ρ_tol\n",
    "    m_eth = V_eth*ρ_eth\n",
    "    mTotal = m_h20+m_tol+m_eth\n",
    "    \n",
    "    frac_h20 = m_h20/mTotal\n",
    "    frac_tol=m_tol/mTotal\n",
    "    frac_eth=m_eth/mTotal\n",
    "    \n",
    "    frac_h20 = \"{0:.3g}\".format(frac_h20)\n",
    "    frac_tol=\"{0:.3g}\".format(frac_tol)\n",
    "    frac_eth=\"{0:.3g}\".format(frac_eth)\n",
    "    return print(\n",
    "                'Table format for mass fraction:','|', frac_eth, '|',frac_h20, '|',frac_tol,'|\\n',\\\n",
    "                'Table format for component volume:','|', V_h2o, '|',V_tol, '|',V_eth,'|'\n",
    "                )"
   ]
  },
  {
   "cell_type": "code",
   "execution_count": 8,
   "metadata": {},
   "outputs": [
    {
     "name": "stdout",
     "output_type": "stream",
     "text": [
      "Table format for mass fraction: | 0.43 | 0.542 | 0.0283 |\n",
      " Table format for component volume: | 16.5 | 1 | 16.7 |\n"
     ]
    }
   ],
   "source": [
    "# type in the volume in ml for the three components\n",
    "# Copy the string to the cells for the tables below.\n",
    "V_water_toluene_ethanol(16.5,1,16.7)"
   ]
  },
  {
   "cell_type": "markdown",
   "metadata": {},
   "source": [
    "__Double click to edit the tables__\n",
    "<p>Ensure correspondence between upper and lower data in the table!!</p>"
   ]
  },
  {
   "cell_type": "markdown",
   "metadata": {},
   "source": [
    "| V_water | V_toluene | V_ethanol |\n",
    "|:-:|:-:|:-:|\n",
    "| 4 | 25.4 | 22.1 |\n",
    "| 10 | 11.5 | 32.8 |\n",
    "| 10 | 4.9 | 24.6 |\n",
    "| 16.5 | 1 | 16.7 |"
   ]
  },
  {
   "cell_type": "markdown",
   "metadata": {},
   "source": [
    "| frac_ethanol | frac_water | frac_toluene |\n",
    "|:-:|:-:|:-:|\n",
    "| 0.401 | 0.0925 | 0.506 |\n",
    "| 0.564 | 0.219 | 0.217 |\n",
    "| 0.576 | 0.298 | 0.126 |\n",
    "| 0.43 | 0.542 | 0.0283 |"
   ]
  },
  {
   "cell_type": "code",
   "execution_count": null,
   "metadata": {},
   "outputs": [],
   "source": []
  }
 ],
 "metadata": {
  "kernelspec": {
   "display_name": "Python 3",
   "language": "python",
   "name": "python3"
  },
  "language_info": {
   "codemirror_mode": {
    "name": "ipython",
    "version": 3
   },
   "file_extension": ".py",
   "mimetype": "text/x-python",
   "name": "python",
   "nbconvert_exporter": "python",
   "pygments_lexer": "ipython3",
   "version": "3.8.11"
  },
  "toc": {
   "base_numbering": 1,
   "nav_menu": {},
   "number_sections": true,
   "sideBar": true,
   "skip_h1_title": false,
   "title_cell": "Table of Contents",
   "title_sidebar": "Contents",
   "toc_cell": false,
   "toc_position": {},
   "toc_section_display": true,
   "toc_window_display": false
  }
 },
 "nbformat": 4,
 "nbformat_minor": 4
}
